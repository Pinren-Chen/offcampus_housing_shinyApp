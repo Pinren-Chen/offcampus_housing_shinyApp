{
 "cells": [
  {
   "cell_type": "code",
   "execution_count": 56,
   "metadata": {
    "collapsed": true
   },
   "outputs": [],
   "source": [
    "# !pip install geopy\n",
    "import geopy\n",
    "from geopy.geocoders import Nominatim\n",
    "import pandas as pd\n",
    "import csv\n",
    "from time import sleep"
   ]
  },
  {
   "cell_type": "code",
   "execution_count": 5,
   "metadata": {},
   "outputs": [
    {
     "data": {
      "text/plain": [
       "(1973, 22)"
      ]
     },
     "execution_count": 5,
     "metadata": {},
     "output_type": "execute_result"
    }
   ],
   "source": [
    "restaurant = pd.read_csv('restaurant_statistics.csv',encoding = \"ISO-8859-1\")\n",
    "restaurant.shape"
   ]
  },
  {
   "cell_type": "code",
   "execution_count": 7,
   "metadata": {
    "collapsed": true
   },
   "outputs": [],
   "source": [
    "geolocator=Nominatim()"
   ]
  },
  {
   "cell_type": "code",
   "execution_count": 14,
   "metadata": {
    "collapsed": true
   },
   "outputs": [],
   "source": [
    "# get neighbourhood results, accroding to Nominatim Usage Policy, \n",
    "# need sleep 1 sec btw each request:https://operations.osmfoundation.org/policies/nominatim/\n",
    "neighbour = [] \n",
    "for i in range(0,200):\n",
    "    sleep(1)\n",
    "    lat = restaurant.loc[[i]]['lat']\n",
    "    long = restaurant.loc[[i]]['lon']\n",
    "    location = geolocator.reverse(tuple([lat.values[0],long.values[0]]))\n",
    "    neighbour.append(location.address) \n",
    "       "
   ]
  },
  {
   "cell_type": "code",
   "execution_count": 17,
   "metadata": {
    "collapsed": true
   },
   "outputs": [],
   "source": [
    "for i in range(200,400):\n",
    "    sleep(1)\n",
    "    lat = restaurant.loc[[i]]['lat']\n",
    "    long = restaurant.loc[[i]]['lon']\n",
    "    location = geolocator.reverse(tuple([lat.values[0],long.values[0]]))\n",
    "    neighbour.append(location.address) "
   ]
  },
  {
   "cell_type": "code",
   "execution_count": 23,
   "metadata": {
    "collapsed": true
   },
   "outputs": [],
   "source": [
    "for i in range(400,600):\n",
    "    sleep(1)\n",
    "    lat = restaurant.loc[[i]]['lat']\n",
    "    long = restaurant.loc[[i]]['lon']\n",
    "    location = geolocator.reverse(tuple([lat.values[0],long.values[0]]))\n",
    "    neighbour.append(location.address) "
   ]
  },
  {
   "cell_type": "code",
   "execution_count": 36,
   "metadata": {
    "collapsed": true
   },
   "outputs": [],
   "source": [
    "for i in range(600,800):\n",
    "    sleep(1)\n",
    "    lat = restaurant.loc[[i]]['lat']\n",
    "    long = restaurant.loc[[i]]['lon']\n",
    "    location = geolocator.reverse(tuple([lat.values[0],long.values[0]]))\n",
    "    neighbour.append(location.address) "
   ]
  },
  {
   "cell_type": "code",
   "execution_count": 40,
   "metadata": {
    "collapsed": true
   },
   "outputs": [],
   "source": [
    "for i in range(800,1000):\n",
    "    sleep(1)\n",
    "    lat = restaurant.loc[[i]]['lat']\n",
    "    long = restaurant.loc[[i]]['lon']\n",
    "    location = geolocator.reverse(tuple([lat.values[0],long.values[0]]))\n",
    "    neighbour.append(location.address) "
   ]
  },
  {
   "cell_type": "code",
   "execution_count": 42,
   "metadata": {
    "collapsed": true
   },
   "outputs": [],
   "source": [
    "for i in range(1000,1200):\n",
    "    sleep(1)\n",
    "    lat = restaurant.loc[[i]]['lat']\n",
    "    long = restaurant.loc[[i]]['lon']\n",
    "    location = geolocator.reverse(tuple([lat.values[0],long.values[0]]))\n",
    "    neighbour.append(location.address) "
   ]
  },
  {
   "cell_type": "code",
   "execution_count": 46,
   "metadata": {
    "collapsed": true
   },
   "outputs": [],
   "source": [
    "for i in range(1208,1400):\n",
    "    sleep(1)\n",
    "    lat = restaurant.loc[[i]]['lat']\n",
    "    long = restaurant.loc[[i]]['lon']\n",
    "    location = geolocator.reverse(tuple([lat.values[0],long.values[0]]))\n",
    "    neighbour.append(location.address) "
   ]
  },
  {
   "cell_type": "code",
   "execution_count": 48,
   "metadata": {
    "collapsed": true
   },
   "outputs": [],
   "source": [
    "for i in range(1400,1600):\n",
    "    sleep(1)\n",
    "    lat = restaurant.loc[[i]]['lat']\n",
    "    long = restaurant.loc[[i]]['lon']\n",
    "    location = geolocator.reverse(tuple([lat.values[0],long.values[0]]))\n",
    "    neighbour.append(location.address) "
   ]
  },
  {
   "cell_type": "code",
   "execution_count": 50,
   "metadata": {
    "collapsed": true
   },
   "outputs": [],
   "source": [
    "for i in range(1600,1800):\n",
    "    sleep(1)\n",
    "    lat = restaurant.loc[[i]]['lat']\n",
    "    long = restaurant.loc[[i]]['lon']\n",
    "    location = geolocator.reverse(tuple([lat.values[0],long.values[0]]))\n",
    "    neighbour.append(location.address) "
   ]
  },
  {
   "cell_type": "code",
   "execution_count": 52,
   "metadata": {
    "collapsed": true
   },
   "outputs": [],
   "source": [
    "for i in range(1800,1972):\n",
    "    sleep(1)\n",
    "    lat = restaurant.loc[[i]]['lat']\n",
    "    long = restaurant.loc[[i]]['lon']\n",
    "    location = geolocator.reverse(tuple([lat.values[0],long.values[0]]))\n",
    "    neighbour.append(location.address) "
   ]
  },
  {
   "cell_type": "code",
   "execution_count": 53,
   "metadata": {},
   "outputs": [
    {
     "data": {
      "text/plain": [
       "1972"
      ]
     },
     "execution_count": 53,
     "metadata": {},
     "output_type": "execute_result"
    }
   ],
   "source": [
    "len(neighbour)"
   ]
  },
  {
   "cell_type": "code",
   "execution_count": 58,
   "metadata": {
    "collapsed": true
   },
   "outputs": [],
   "source": [
    "# output results as csv file\n",
    "restaurant_output = pd.DataFrame(neighbour)\n",
    "restaurant_output.to_csv('restaurant_output.csv',index=False,header=False)"
   ]
  }
 ],
 "metadata": {
  "kernelspec": {
   "display_name": "Python 3",
   "language": "python",
   "name": "python3"
  },
  "language_info": {
   "codemirror_mode": {
    "name": "ipython",
    "version": 3
   },
   "file_extension": ".py",
   "mimetype": "text/x-python",
   "name": "python",
   "nbconvert_exporter": "python",
   "pygments_lexer": "ipython3",
   "version": "3.6.1"
  }
 },
 "nbformat": 4,
 "nbformat_minor": 2
}
