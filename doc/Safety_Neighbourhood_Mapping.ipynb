{
 "cells": [
  {
   "cell_type": "code",
   "execution_count": 2,
   "metadata": {},
   "outputs": [
    {
     "name": "stdout",
     "output_type": "stream",
     "text": [
      "Requirement already satisfied: geopy in /Users/ninashao/anaconda/lib/python3.6/site-packages\r\n"
     ]
    }
   ],
   "source": [
    "# !pip install geopy\n",
    "import geopy\n",
    "from geopy.geocoders import Nominatim\n",
    "import pandas\n",
    "import csv\n",
    "from time import sleep"
   ]
  },
  {
   "cell_type": "code",
   "execution_count": 16,
   "metadata": {},
   "outputs": [
    {
     "data": {
      "text/plain": [
       "(8577, 26)"
      ]
     },
     "execution_count": 16,
     "metadata": {},
     "output_type": "execute_result"
    }
   ],
   "source": [
    "#check data size \n",
    "crime = pandas.read_csv('Crime_statistics.csv')\n",
    "crime.shape"
   ]
  },
  {
   "cell_type": "code",
   "execution_count": 7,
   "metadata": {
    "collapsed": true
   },
   "outputs": [],
   "source": [
    "geolocator=Nominatim()"
   ]
  },
  {
   "cell_type": "code",
   "execution_count": null,
   "metadata": {
    "collapsed": true,
    "scrolled": true
   },
   "outputs": [],
   "source": [
    "# get neighbourhood results, accroding to Nominatim Usage Policy, \n",
    "# need sleep 1 sec btw each request:https://operations.osmfoundation.org/policies/nominatim/\n",
    "neighbour = [] \n",
    "for i in range(0,200):\n",
    "    sleep(1)\n",
    "    lat = crime.loc[[i]]['Latitude']\n",
    "    long = crime.loc[[i]]['Longitude']\n",
    "    location = geolocator.reverse(tuple([lat.values[0],long.values[0]]))\n",
    "    neighbour.append(location.address) \n",
    "\n",
    "for i in range(200,400):\n",
    "    sleep(1)\n",
    "    lat = crime.loc[[i]]['Latitude']\n",
    "    long = crime.loc[[i]]['Longitude']\n",
    "    location = geolocator.reverse(tuple([lat.values[0],long.values[0]]))\n",
    "    neighbour.append(location.address)\n",
    "       "
   ]
  },
  {
   "cell_type": "code",
   "execution_count": null,
   "metadata": {
    "collapsed": true
   },
   "outputs": [],
   "source": [
    "for i in range(400,600):\n",
    "    sleep(1)\n",
    "    lat = crime.loc[[i]]['Latitude']\n",
    "    long = crime.loc[[i]]['Longitude']\n",
    "    location = geolocator.reverse(tuple([lat.values[0],long.values[0]]))\n",
    "    neighbour.append(location.address)\n",
    "    \n",
    "for i in range(600,800):\n",
    "    sleep(1)\n",
    "    lat = crime.loc[[i]]['Latitude']\n",
    "    long = crime.loc[[i]]['Longitude']\n",
    "    location = geolocator.reverse(tuple([lat.values[0],long.values[0]]))\n",
    "    neighbour.append(location.address)"
   ]
  },
  {
   "cell_type": "code",
   "execution_count": null,
   "metadata": {
    "collapsed": true
   },
   "outputs": [],
   "source": [
    "for i in range(800,1000):\n",
    "    sleep(1)\n",
    "    lat = crime.loc[[i]]['Latitude']\n",
    "    long = crime.loc[[i]]['Longitude']\n",
    "    location = geolocator.reverse(tuple([lat.values[0],long.values[0]]))\n",
    "    neighbour.append(location.address)\n",
    "\n",
    "for i in range(1000,1200):\n",
    "    sleep(1)\n",
    "    lat = crime.loc[[i]]['Latitude']\n",
    "    long = crime.loc[[i]]['Longitude']\n",
    "    location = geolocator.reverse(tuple([lat.values[0],long.values[0]]))\n",
    "    neighbour.append(location.address)"
   ]
  },
  {
   "cell_type": "code",
   "execution_count": null,
   "metadata": {
    "collapsed": true
   },
   "outputs": [],
   "source": [
    "for i in range(1200,1400):\n",
    "    sleep(1)\n",
    "    lat = crime.loc[[i]]['Latitude']\n",
    "    long = crime.loc[[i]]['Longitude']\n",
    "    location = geolocator.reverse(tuple([lat.values[0],long.values[0]]))\n",
    "    neighbour.append(location.address)\n",
    "\n",
    "for i in range(1400,1600):\n",
    "    sleep(1)\n",
    "    lat = crime.loc[[i]]['Latitude']\n",
    "    long = crime.loc[[i]]['Longitude']\n",
    "    location = geolocator.reverse(tuple([lat.values[0],long.values[0]]))\n",
    "    neighbour.append(location.address)"
   ]
  },
  {
   "cell_type": "code",
   "execution_count": null,
   "metadata": {
    "collapsed": true
   },
   "outputs": [],
   "source": [
    "for i in range(1600,1800):\n",
    "    sleep(1)\n",
    "    lat = crime.loc[[i]]['Latitude']\n",
    "    long = crime.loc[[i]]['Longitude']\n",
    "    location = geolocator.reverse(tuple([lat.values[0],long.values[0]]))\n",
    "    neighbour.append(location.address)\n",
    "\n",
    "for i in range(1800,2000):\n",
    "    sleep(1)\n",
    "    lat = crime.loc[[i]]['Latitude']\n",
    "    long = crime.loc[[i]]['Longitude']\n",
    "    location = geolocator.reverse(tuple([lat.values[0],long.values[0]]))\n",
    "    neighbour.append(location.address)"
   ]
  },
  {
   "cell_type": "code",
   "execution_count": null,
   "metadata": {
    "collapsed": true
   },
   "outputs": [],
   "source": [
    "for i in range(2000,2200):\n",
    "    sleep(1)\n",
    "    lat = crime.loc[[i]]['Latitude']\n",
    "    long = crime.loc[[i]]['Longitude']\n",
    "    location = geolocator.reverse(tuple([lat.values[0],long.values[0]]))\n",
    "    neighbour.append(location.address)\n",
    "\n",
    "for i in range(2200,2400):\n",
    "    sleep(1)\n",
    "    lat = crime.loc[[i]]['Latitude']\n",
    "    long = crime.loc[[i]]['Longitude']\n",
    "    location = geolocator.reverse(tuple([lat.values[0],long.values[0]]))\n",
    "    neighbour.append(location.address)"
   ]
  },
  {
   "cell_type": "code",
   "execution_count": null,
   "metadata": {
    "collapsed": true
   },
   "outputs": [],
   "source": [
    "for i in range(2400,2600):\n",
    "    sleep(1)\n",
    "    lat = crime.loc[[i]]['Latitude']\n",
    "    long = crime.loc[[i]]['Longitude']\n",
    "    location = geolocator.reverse(tuple([lat.values[0],long.values[0]]))\n",
    "    neighbour.append(location.address)\n",
    "\n",
    "for i in range(2600,2800):\n",
    "    sleep(1)\n",
    "    lat = crime.loc[[i]]['Latitude']\n",
    "    long = crime.loc[[i]]['Longitude']\n",
    "    location = geolocator.reverse(tuple([lat.values[0],long.values[0]]))\n",
    "    neighbour.append(location.address)"
   ]
  },
  {
   "cell_type": "code",
   "execution_count": null,
   "metadata": {
    "collapsed": true
   },
   "outputs": [],
   "source": [
    "for i in range(2800,3000):\n",
    "    sleep(1)\n",
    "    lat = crime.loc[[i]]['Latitude']\n",
    "    long = crime.loc[[i]]['Longitude']\n",
    "    location = geolocator.reverse(tuple([lat.values[0],long.values[0]]))\n",
    "    neighbour.append(location.address)\n",
    "\n",
    "for i in range(3000,3200):\n",
    "    sleep(1)\n",
    "    lat = crime.loc[[i]]['Latitude']\n",
    "    long = crime.loc[[i]]['Longitude']\n",
    "    location = geolocator.reverse(tuple([lat.values[0],long.values[0]]))\n",
    "    neighbour.append(location.address)"
   ]
  },
  {
   "cell_type": "code",
   "execution_count": null,
   "metadata": {
    "collapsed": true
   },
   "outputs": [],
   "source": [
    "for i in range(3200,3400):\n",
    "    sleep(1)\n",
    "    lat = crime.loc[[i]]['Latitude']\n",
    "    long = crime.loc[[i]]['Longitude']\n",
    "    location = geolocator.reverse(tuple([lat.values[0],long.values[0]]))\n",
    "    neighbour.append(location.address)\n",
    "\n",
    "for i in range(3400,3600):\n",
    "    sleep(1)\n",
    "    lat = crime.loc[[i]]['Latitude']\n",
    "    long = crime.loc[[i]]['Longitude']\n",
    "    location = geolocator.reverse(tuple([lat.values[0],long.values[0]]))\n",
    "    neighbour.append(location.address)"
   ]
  },
  {
   "cell_type": "code",
   "execution_count": null,
   "metadata": {
    "collapsed": true
   },
   "outputs": [],
   "source": [
    "for i in range(3600,3800):\n",
    "    sleep(1)\n",
    "    lat = crime.loc[[i]]['Latitude']\n",
    "    long = crime.loc[[i]]['Longitude']\n",
    "    location = geolocator.reverse(tuple([lat.values[0],long.values[0]]))\n",
    "    neighbour.append(location.address)\n",
    "\n",
    "for i in range(3800,4000):\n",
    "    sleep(1)\n",
    "    lat = crime.loc[[i]]['Latitude']\n",
    "    long = crime.loc[[i]]['Longitude']\n",
    "    location = geolocator.reverse(tuple([lat.values[0],long.values[0]]))\n",
    "    neighbour.append(location.address)"
   ]
  },
  {
   "cell_type": "code",
   "execution_count": null,
   "metadata": {
    "collapsed": true
   },
   "outputs": [],
   "source": [
    "for i in range(4000,4200):\n",
    "    sleep(1)\n",
    "    lat = crime.loc[[i]]['Latitude']\n",
    "    long = crime.loc[[i]]['Longitude']\n",
    "    location = geolocator.reverse(tuple([lat.values[0],long.values[0]]))\n",
    "    neighbour.append(location.address)\n",
    "\n",
    "for i in range(4200,4400):\n",
    "    sleep(1)\n",
    "    lat = crime.loc[[i]]['Latitude']\n",
    "    long = crime.loc[[i]]['Longitude']\n",
    "    location = geolocator.reverse(tuple([lat.values[0],long.values[0]]))\n",
    "    neighbour.append(location.address)"
   ]
  },
  {
   "cell_type": "code",
   "execution_count": null,
   "metadata": {
    "collapsed": true
   },
   "outputs": [],
   "source": [
    "for i in range(4400,4600):\n",
    "    sleep(1)\n",
    "    lat = crime.loc[[i]]['Latitude']\n",
    "    long = crime.loc[[i]]['Longitude']\n",
    "    location = geolocator.reverse(tuple([lat.values[0],long.values[0]]))\n",
    "    neighbour.append(location.address)\n",
    "\n",
    "for i in range(4600,4800):\n",
    "    sleep(1)\n",
    "    lat = crime.loc[[i]]['Latitude']\n",
    "    long = crime.loc[[i]]['Longitude']\n",
    "    location = geolocator.reverse(tuple([lat.values[0],long.values[0]]))\n",
    "    neighbour.append(location.address)"
   ]
  },
  {
   "cell_type": "code",
   "execution_count": null,
   "metadata": {
    "collapsed": true
   },
   "outputs": [],
   "source": [
    "for i in range(4800,5000):\n",
    "    sleep(1)\n",
    "    lat = crime.loc[[i]]['Latitude']\n",
    "    long = crime.loc[[i]]['Longitude']\n",
    "    location = geolocator.reverse(tuple([lat.values[0],long.values[0]]))\n",
    "    neighbour.append(location.address)\n",
    "\n",
    "for i in range(5000,5200):\n",
    "    sleep(1)\n",
    "    lat = crime.loc[[i]]['Latitude']\n",
    "    long = crime.loc[[i]]['Longitude']\n",
    "    location = geolocator.reverse(tuple([lat.values[0],long.values[0]]))\n",
    "    neighbour.append(location.address)"
   ]
  },
  {
   "cell_type": "code",
   "execution_count": null,
   "metadata": {
    "collapsed": true
   },
   "outputs": [],
   "source": [
    "for i in range(5200,5400):\n",
    "    sleep(1)\n",
    "    lat = crime.loc[[i]]['Latitude']\n",
    "    long = crime.loc[[i]]['Longitude']\n",
    "    location = geolocator.reverse(tuple([lat.values[0],long.values[0]]))\n",
    "    neighbour.append(location.address)\n",
    "\n",
    "for i in range(5400,5600):\n",
    "    sleep(1)\n",
    "    lat = crime.loc[[i]]['Latitude']\n",
    "    long = crime.loc[[i]]['Longitude']\n",
    "    location = geolocator.reverse(tuple([lat.values[0],long.values[0]]))\n",
    "    neighbour.append(location.address)"
   ]
  },
  {
   "cell_type": "code",
   "execution_count": null,
   "metadata": {
    "collapsed": true
   },
   "outputs": [],
   "source": [
    "for i in range(5200,5400):\n",
    "    sleep(1)\n",
    "    lat = crime.loc[[i]]['Latitude']\n",
    "    long = crime.loc[[i]]['Longitude']\n",
    "    location = geolocator.reverse(tuple([lat.values[0],long.values[0]]))\n",
    "    neighbour.append(location.address)\n",
    "\n",
    "for i in range(5400,5600):\n",
    "    sleep(1)\n",
    "    lat = crime.loc[[i]]['Latitude']\n",
    "    long = crime.loc[[i]]['Longitude']\n",
    "    location = geolocator.reverse(tuple([lat.values[0],long.values[0]]))\n",
    "    neighbour.append(location.address)"
   ]
  },
  {
   "cell_type": "code",
   "execution_count": null,
   "metadata": {
    "collapsed": true
   },
   "outputs": [],
   "source": [
    "for i in range(5600,5800):\n",
    "    sleep(1)\n",
    "    lat = crime.loc[[i]]['Latitude']\n",
    "    long = crime.loc[[i]]['Longitude']\n",
    "    location = geolocator.reverse(tuple([lat.values[0],long.values[0]]))\n",
    "    neighbour.append(location.address)\n",
    "\n",
    "for i in range(5800,6000):\n",
    "    sleep(1)\n",
    "    lat = crime.loc[[i]]['Latitude']\n",
    "    long = crime.loc[[i]]['Longitude']\n",
    "    location = geolocator.reverse(tuple([lat.values[0],long.values[0]]))\n",
    "    neighbour.append(location.address)"
   ]
  },
  {
   "cell_type": "code",
   "execution_count": null,
   "metadata": {
    "collapsed": true
   },
   "outputs": [],
   "source": [
    "for i in range(6000,6200):\n",
    "    sleep(1)\n",
    "    lat = crime.loc[[i]]['Latitude']\n",
    "    long = crime.loc[[i]]['Longitude']\n",
    "    location = geolocator.reverse(tuple([lat.values[0],long.values[0]]))\n",
    "    neighbour.append(location.address)\n",
    "\n",
    "for i in range(6200,6400):\n",
    "    sleep(1)\n",
    "    lat = crime.loc[[i]]['Latitude']\n",
    "    long = crime.loc[[i]]['Longitude']\n",
    "    location = geolocator.reverse(tuple([lat.values[0],long.values[0]]))\n",
    "    neighbour.append(location.address)"
   ]
  },
  {
   "cell_type": "code",
   "execution_count": null,
   "metadata": {
    "collapsed": true
   },
   "outputs": [],
   "source": [
    "for i in range(6400,6600):\n",
    "    sleep(1)\n",
    "    lat = crime.loc[[i]]['Latitude']\n",
    "    long = crime.loc[[i]]['Longitude']\n",
    "    location = geolocator.reverse(tuple([lat.values[0],long.values[0]]))\n",
    "    neighbour.append(location.address)\n",
    "\n",
    "for i in range(6600,6800):\n",
    "    sleep(1)\n",
    "    lat = crime.loc[[i]]['Latitude']\n",
    "    long = crime.loc[[i]]['Longitude']\n",
    "    location = geolocator.reverse(tuple([lat.values[0],long.values[0]]))\n",
    "    neighbour.append(location.address)"
   ]
  },
  {
   "cell_type": "code",
   "execution_count": null,
   "metadata": {
    "collapsed": true
   },
   "outputs": [],
   "source": [
    "for i in range(6800,7000):\n",
    "    sleep(1)\n",
    "    lat = crime.loc[[i]]['Latitude']\n",
    "    long = crime.loc[[i]]['Longitude']\n",
    "    location = geolocator.reverse(tuple([lat.values[0],long.values[0]]))\n",
    "    neighbour.append(location.address)\n",
    "\n",
    "for i in range(7000,7200):\n",
    "    sleep(1)\n",
    "    lat = crime.loc[[i]]['Latitude']\n",
    "    long = crime.loc[[i]]['Longitude']\n",
    "    location = geolocator.reverse(tuple([lat.values[0],long.values[0]]))\n",
    "    neighbour.append(location.address)"
   ]
  },
  {
   "cell_type": "code",
   "execution_count": null,
   "metadata": {
    "collapsed": true
   },
   "outputs": [],
   "source": [
    "for i in range(7200,7400):\n",
    "    sleep(1)\n",
    "    lat = crime.loc[[i]]['Latitude']\n",
    "    long = crime.loc[[i]]['Longitude']\n",
    "    location = geolocator.reverse(tuple([lat.values[0],long.values[0]]))\n",
    "    neighbour.append(location.address)\n",
    "\n",
    "for i in range(7400,7600):\n",
    "    sleep(1)\n",
    "    lat = crime.loc[[i]]['Latitude']\n",
    "    long = crime.loc[[i]]['Longitude']\n",
    "    location = geolocator.reverse(tuple([lat.values[0],long.values[0]]))\n",
    "    neighbour.append(location.address)"
   ]
  },
  {
   "cell_type": "code",
   "execution_count": null,
   "metadata": {
    "collapsed": true
   },
   "outputs": [],
   "source": [
    "for i in range(7600,7800):\n",
    "    sleep(1)\n",
    "    lat = crime.loc[[i]]['Latitude']\n",
    "    long = crime.loc[[i]]['Longitude']\n",
    "    location = geolocator.reverse(tuple([lat.values[0],long.values[0]]))\n",
    "    neighbour.append(location.address)\n",
    "\n",
    "for i in range(7800,8000):\n",
    "    sleep(1)\n",
    "    lat = crime.loc[[i]]['Latitude']\n",
    "    long = crime.loc[[i]]['Longitude']\n",
    "    location = geolocator.reverse(tuple([lat.values[0],long.values[0]]))\n",
    "    neighbour.append(location.address)"
   ]
  },
  {
   "cell_type": "code",
   "execution_count": null,
   "metadata": {
    "collapsed": true
   },
   "outputs": [],
   "source": [
    "for i in range(8000,8200):\n",
    "    sleep(1)\n",
    "    lat = crime.loc[[i]]['Latitude']\n",
    "    long = crime.loc[[i]]['Longitude']\n",
    "    location = geolocator.reverse(tuple([lat.values[0],long.values[0]]))\n",
    "    neighbour.append(location.address)\n",
    "\n",
    "for i in range(8200,8400):\n",
    "    sleep(1)\n",
    "    lat = crime.loc[[i]]['Latitude']\n",
    "    long = crime.loc[[i]]['Longitude']\n",
    "    location = geolocator.reverse(tuple([lat.values[0],long.values[0]]))\n",
    "    neighbour.append(location.address)"
   ]
  },
  {
   "cell_type": "code",
   "execution_count": null,
   "metadata": {
    "collapsed": true
   },
   "outputs": [],
   "source": [
    "for i in range(8400,8577):\n",
    "    sleep(1)\n",
    "    lat = crime.loc[[i]]['Latitude']\n",
    "    long = crime.loc[[i]]['Longitude']\n",
    "    location = geolocator.reverse(tuple([lat.values[0],long.values[0]]))\n",
    "    neighbour.append(location.address)"
   ]
  },
  {
   "cell_type": "code",
   "execution_count": null,
   "metadata": {
    "collapsed": true
   },
   "outputs": [],
   "source": [
    "# Output the mapping results as csv \n",
    "crime_output = pandas.DataFrame(neighbour)\n",
    "crime_output.to_csv('crime_output.csv',index=False,header=False)"
   ]
  }
 ],
 "metadata": {
  "kernelspec": {
   "display_name": "Python 3",
   "language": "python",
   "name": "python3"
  },
  "language_info": {
   "codemirror_mode": {
    "name": "ipython",
    "version": 3
   },
   "file_extension": ".py",
   "mimetype": "text/x-python",
   "name": "python",
   "nbconvert_exporter": "python",
   "pygments_lexer": "ipython3",
   "version": "3.6.1"
  }
 },
 "nbformat": 4,
 "nbformat_minor": 2
}
